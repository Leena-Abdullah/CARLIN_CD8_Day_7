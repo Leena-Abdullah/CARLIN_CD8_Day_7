{
 "cells": [
  {
   "cell_type": "code",
   "execution_count": null,
   "metadata": {
    "tags": []
   },
   "outputs": [],
   "source": [
    "import scanpy as sc\n",
    "import anndata\n",
    "from scipy import io\n",
    "from scipy.sparse import coo_matrix, csr_matrix\n",
    "import numpy as np\n",
    "import os\n",
    "import pandas as pd\n",
    "import scvelo as scv\n",
    "import cytopath as cytopath\n",
    "import seaborn as seaborn\n",
    "import matplotlib as matplotlib\n",
    "from plotnine import ggplot, aes, geom_path"
   ]
  },
  {
   "cell_type": "code",
   "execution_count": null,
   "metadata": {},
   "outputs": [],
   "source": [
    "os.chdir('/dartfs-hpc/rc/home/f/f003kcf/CARLIN_analysis/06082022_vsv-ova_infection/fig2_for_paper')"
   ]
  },
  {
   "cell_type": "code",
   "execution_count": null,
   "metadata": {},
   "outputs": [],
   "source": [
    "scv.settings.verbosity = 3\n",
    "scv.settings.set_figure_params(\"scvelo\")"
   ]
  },
  {
   "cell_type": "code",
   "execution_count": null,
   "metadata": {},
   "outputs": [],
   "source": [
    "scv.logging.print_version()"
   ]
  },
  {
   "cell_type": "markdown",
   "metadata": {},
   "source": [
    "# The code used to convert seurat object into an anndata object which is compatible with scVelo was obtained from :https://smorabit.github.io/tutorials/8_velocyto/"
   ]
  },
  {
   "cell_type": "code",
   "execution_count": null,
   "metadata": {},
   "outputs": [],
   "source": [
    "# load sparse matrix:\n",
    "X = io.mmread(\"counts_1.mtx\")\n",
    "\n",
    "# create anndata object\n",
    "adata = anndata.AnnData(\n",
    "    X=X.transpose().tocsr()\n",
    ")\n"
   ]
  },
  {
   "cell_type": "code",
   "execution_count": null,
   "metadata": {},
   "outputs": [],
   "source": [
    "# load cell metadata: 'seurat_clusters' changed to clusters to match the pipeline:\n",
    "cell_meta = pd.read_csv(\"metadata_1.csv\")\n",
    "\n",
    "# load gene names:\n",
    "with open(\"gene_names_1.csv\", 'r') as f:\n",
    "    gene_names = f.read().splitlines()\n",
    "\n",
    "# set anndata observations and index obs by barcodes, var by gene names\n",
    "adata.obs = cell_meta\n",
    "adata.obs.index = adata.obs['barcode']\n",
    "adata.var.index = gene_names\n",
    "\n",
    "# load dimensional reduction:\n",
    "pca = pd.read_csv(\"harmony_1.csv\")\n",
    "pca.index = adata.obs.index\n",
    "\n",
    "# set pca and umap\n",
    "adata.obsm['X_pca'] = pca.to_numpy()\n",
    "adata.obsm['X_umap'] = np.vstack((adata.obs['UMAP_1'].to_numpy(), adata.obs['UMAP_2'].to_numpy())).T\n",
    "\n"
   ]
  },
  {
   "cell_type": "code",
   "execution_count": null,
   "metadata": {},
   "outputs": [],
   "source": [
    "# load loom files for spliced/unspliced matrices for each sample:\n",
    "##loom files generated using velocyto.py were used here\n",
    "\n",
    "ldata1 = scv.read('/dartfs-hpc/rc/home/f/f003kcf/CARLIN_analysis/06082022_vsv-ova_infection/LA1_velocity/possorted_genome_bam_XN92C.loom',validate=False )\n",
    "\n",
    "ldata2 = scv.read('/dartfs-hpc/rc/home/f/f003kcf/CARLIN_analysis/06082022_vsv-ova_infection/LA2_velocity/possorted_genome_bam_J0MP5.loom',validate=False )\n",
    "\n",
    "ldata3 =scv.read('/dartfs-hpc/rc/home/f/f003kcf/CARLIN_analysis/06082022_vsv-ova_infection/LA3_velocity/possorted_genome_bam_WECGP.loom',validate=False)\n",
    "\n",
    "\n",
    "#rename barcodes in order to merge:\n",
    "barcodes = [bc.split(':')[1] for bc in ldata1.obs.index.tolist()]\n",
    "barcodes = [bc[0:len(bc)-1] + '_LA1' for bc in barcodes]\n",
    "ldata1.obs.index = barcodes\n",
    "\n",
    "barcodes = [bc.split(':')[1] for bc in ldata2.obs.index.tolist()]\n",
    "barcodes = [bc[0:len(bc)-1] + '_LA2' for bc in barcodes]\n",
    "ldata2.obs.index = barcodes\n",
    "\n",
    "barcodes = [bc.split(':')[1] for bc in ldata3.obs.index.tolist()]\n",
    "barcodes = [bc[0:len(bc)-1] + '_LA3' for bc in barcodes]\n",
    "ldata3.obs.index = barcodes\n",
    "\n",
    "# make variable names unique\n",
    "ldata1.var_names_make_unique()\n",
    "ldata2.var_names_make_unique()\n",
    "ldata3.var_names_make_unique()\n",
    "\n",
    "# concatenate the three loom\n",
    "ldata = ldata1.concatenate([ldata2, ldata3])\n",
    "\n",
    "\n"
   ]
  },
  {
   "cell_type": "code",
   "execution_count": null,
   "metadata": {},
   "outputs": [],
   "source": [
    "##Clean obs names to allow for merge. Keep 16nt Cell Id only.\n",
    "scv.utils.clean_obs_names(adata, id_length=16)\n",
    "scv.utils.clean_obs_names(ldata,id_length=16)\n"
   ]
  },
  {
   "cell_type": "code",
   "execution_count": null,
   "metadata": {},
   "outputs": [],
   "source": [
    "# merge matrices into the original adata object\n",
    "adata = scv.utils.merge(adata, ldata)\n",
    "\n",
    "adata"
   ]
  },
  {
   "cell_type": "code",
   "execution_count": null,
   "metadata": {},
   "outputs": [],
   "source": [
    "scv.pp.filter_and_normalize(adata, min_shared_counts=20)\n",
    "scv.pp.moments(adata, n_pcs=15, n_neighbors=20)\n"
   ]
  },
  {
   "cell_type": "code",
   "execution_count": null,
   "metadata": {},
   "outputs": [],
   "source": [
    "scv.tl.velocity(adata, mode='stochastic')\n",
    "\n",
    "#Compute velocity graph based on cosine similarities.\n",
    "scv.tl.velocity_graph(adata)\n",
    "\n",
    "#Compute cell-to-cell transition probabilities excluding self transitions \n",
    "adata.uns['T_forward'] = scv.utils.get_transition_matrix(adata, self_transitions=False)"
   ]
  },
  {
   "cell_type": "code",
   "execution_count": null,
   "metadata": {},
   "outputs": [],
   "source": [
    "#Compute terminal states (root and end points)\n",
    "scv.tl.terminal_states(adata)\n",
    "\n",
    "#Plot velocity grid/stream\n",
    "scv.pl.velocity_embedding_grid(adata, basis='umap', color='clusters', save='embedding_grid_for_paper.pdf', title='', scale=0.25, dpi=600)\n",
    "scv.pl.velocity_embedding_stream(adata, color=['root_cells'],density=2, min_mass=2, legend_loc='right margin', size=20, dpi=600, save='inital_states_for_paper')\n",
    "scv.pl.velocity_embedding_stream(adata, color=['end_points'],density=2, min_mass=2, legend_loc='right margin', size=20, dpi=600, save='terminal_states_for_paper')\n"
   ]
  },
  {
   "cell_type": "code",
   "execution_count": null,
   "metadata": {},
   "outputs": [],
   "source": [
    "scv.tl.rank_velocity_genes(adata, groupby='clusters', min_corr=.3)\n",
    "\n",
    "df = scv.DataFrame(adata.uns['rank_velocity_genes']['names'])\n",
    "df.head()"
   ]
  },
  {
   "cell_type": "code",
   "execution_count": null,
   "metadata": {},
   "outputs": [],
   "source": [
    "##phase portrait for Zeb2\n",
    "scv.pl.velocity(adata, 'Zeb2', add_outline=False, size=3, dpi=600, save='Zeb2_no_boundary_for_paper.pdf')"
   ]
  },
  {
   "cell_type": "code",
   "execution_count": null,
   "metadata": {},
   "outputs": [],
   "source": [
    "# save dataset as anndata format\n",
    "adata.write('my_data.h5ad')"
   ]
  },
  {
   "cell_type": "code",
   "execution_count": null,
   "metadata": {},
   "outputs": [],
   "source": [
    "#reopen adata\n",
    "adata = sc.read_h5ad('my_data.h5ad')"
   ]
  },
  {
   "cell_type": "code",
   "execution_count": null,
   "metadata": {
    "scrolled": true
   },
   "outputs": [],
   "source": [
    "cytopath.sampling(adata, cluster_key='clusters',end_clusters=['1'],\n",
    "                  num_cores=os.cpu_count()-1)"
   ]
  },
  {
   "cell_type": "code",
   "execution_count": null,
   "metadata": {},
   "outputs": [],
   "source": [
    "cytopath.trajectories(adata, cluster_freq=0.1,num_cores=os.cpu_count()-1)"
   ]
  },
  {
   "cell_type": "code",
   "execution_count": null,
   "metadata": {},
   "outputs": [],
   "source": [
    "##Cytopath trajectory will be plotted in R to preserve the colors of the seurat clusters\n",
    "pp=adata.uns['trajectories']['trajectories_coordinates']['1']['trajectory_0_coordinates']\n",
    "\n",
    "xs = [p[0] for p in pp]\n",
    "ys= [p[1] for p in pp]\n",
    "df_1 = pd.DataFrame(ys, xs)\n",
    "df_1.to_csv('endpoint_1_trajectory_for_paper.csv', index=True)"
   ]
  },
  {
   "cell_type": "code",
   "execution_count": null,
   "metadata": {},
   "outputs": [],
   "source": [
    "seaborn.boxplot(x='clusters', y='end_points', data=adata.obs)"
   ]
  },
  {
   "cell_type": "code",
   "execution_count": null,
   "metadata": {},
   "outputs": [],
   "source": [
    "##for supplement\n",
    "scv.pl.proportions(adata, save='spliced_unspliced_proprtions_for_paper.pdf')\n",
    "\n",
    "scv.tl.velocity_confidence(adata)\n",
    "keys = 'velocity_length', 'velocity_confidence'\n",
    "scv.pl.scatter(adata, c='velocity_confidence', cmap='coolwarm', perc=[5, 95], save='Velocity_confidence_for_paper.pdf',dpi=600)"
   ]
  }
 ],
 "metadata": {
  "kernelspec": {
   "display_name": "Python 3 (ipykernel)",
   "language": "python",
   "name": "python3"
  },
  "language_info": {
   "codemirror_mode": {
    "name": "ipython",
    "version": 3
   },
   "file_extension": ".py",
   "mimetype": "text/x-python",
   "name": "python",
   "nbconvert_exporter": "python",
   "pygments_lexer": "ipython3",
   "version": "3.10.6"
  }
 },
 "nbformat": 4,
 "nbformat_minor": 4
}
